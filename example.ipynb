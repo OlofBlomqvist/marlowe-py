{
 "cells": [
  {
   "cell_type": "markdown",
   "metadata": {},
   "source": [
    "# MARLOWE-PY\n",
    "\n",
    "Marlowe-RS (marlowe_lang) packaged as a python module!\n",
    "\n"
   ]
  },
  {
   "cell_type": "markdown",
   "metadata": {},
   "source": [
    "### INITIALIZE"
   ]
  },
  {
   "cell_type": "code",
   "execution_count": 11,
   "metadata": {},
   "outputs": [],
   "source": [
    "from marlowe import  *"
   ]
  },
  {
   "cell_type": "markdown",
   "metadata": {},
   "source": [
    "### Working with JSON"
   ]
  },
  {
   "cell_type": "code",
   "execution_count": 12,
   "metadata": {},
   "outputs": [
    {
     "name": "stdout",
     "output_type": "stream",
     "text": [
      "OK: When [  ] 121231233 Close\n"
     ]
    }
   ],
   "source": [
    "j = '{\"when\": [],\"timeout_continuation\": \"close\",\"timeout\": 121231233}'\n",
    "\n",
    "try:\n",
    "    parsed_from_json = Contract.from_json(j)\n",
    "    converted_to_dsl = parsed_from_json.as_marlowe_dsl()\n",
    "    print(\"OK:\",converted_to_dsl)\n",
    "except ValueError as e:\n",
    "    print(\"ERR:\",e)\n",
    "\n",
    "    "
   ]
  },
  {
   "cell_type": "markdown",
   "metadata": {},
   "source": [
    "### Working with Marlowe DSL"
   ]
  },
  {
   "cell_type": "code",
   "execution_count": 13,
   "metadata": {},
   "outputs": [
    {
     "name": "stdout",
     "output_type": "stream",
     "text": [
      "{\n",
      "  \"when\": [],\n",
      "  \"timeout_continuation\": \"close\",\n",
      "  \"timeout\": 123213\n",
      "}\n"
     ]
    }
   ],
   "source": [
    "dsl = 'When [] (TimeParam \"a\") Close'\n",
    "\n",
    "try:\n",
    "    contract = Contract.from_marlowe_dsl(dsl,[(\"a\",123213)])\n",
    "    print(contract.as_json())\n",
    "except ValueError as e:\n",
    "    print(\"ERR:\",e)\n"
   ]
  },
  {
   "cell_type": "markdown",
   "metadata": {},
   "source": [
    "### Working with CBOR"
   ]
  },
  {
   "cell_type": "markdown",
   "metadata": {},
   "source": [
    "#### Datums"
   ]
  },
  {
   "cell_type": "code",
   "execution_count": 14,
   "metadata": {},
   "outputs": [
    {
     "name": "stdout",
     "output_type": "stream",
     "text": [
      "{\n",
      "  \"marlowe_params\": \"8bb3b343d8e404472337966a722150048c768d0a92a9813596c5338d\",\n",
      "  \"state\": {\n",
      "    \"accounts\": [\n",
      "      [\n",
      "        [\n",
      "          {\n",
      "            \"address\": \"addr_test1vrsdcu86j6v8yljrnh69ssm8jlg90n075hnu9pzdz2m2lzsdlspjq\"\n",
      "          },\n",
      "          {\n",
      "            \"token_name\": \"\",\n",
      "            \"currency_symbol\": \"\"\n",
      "          }\n",
      "        ],\n",
      "        3000000\n",
      "      ]\n",
      "    ],\n",
      "    \"choices\": [],\n",
      "    \"boundValues\": [],\n",
      "    \"minTime\": 0\n",
      "  },\n",
      "  \"contract\": {\n",
      "    \"token\": {\n",
      "      \"token_name\": \"\",\n",
      "      \"currency_symbol\": \"\"\n",
      "    },\n",
      "    \"to\": {\n",
      "      \"party\": {\n",
      "        \"role_token\": \"WithdrawalTest1\"\n",
      "      }\n",
      "    },\n",
      "    \"then\": \"close\",\n",
      "    \"pay\": 10000000,\n",
      "    \"from_account\": {\n",
      "      \"address\": \"addr_test1vrsdcu86j6v8yljrnh69ssm8jlg90n075hnu9pzdz2m2lzsdlspjq\"\n",
      "    }\n",
      "  }\n",
      "}\n"
     ]
    }
   ],
   "source": [
    "cbor_hex = 'd8799fd8799f581c8bb3b343d8e404472337966a722150048c768d0a92a9813596c5338dffd8799fa1d8799fd8799fd87980d8799fd8799f581ce0dc70fa9698727e439df458436797d057cdfea5e7c2844d12b6af8affd87a80ffffd8799f4040ffff1a002dc6c0a0a000ffd87a9fd8799fd87980d8799fd8799f581ce0dc70fa9698727e439df458436797d057cdfea5e7c2844d12b6af8affd87a80ffffd87a9fd87a9f4f5769746864726177616c5465737431ffffd8799f4040ffd87a9f1a00989680ffd87980ffff'\n",
    "\n",
    "try:\n",
    "    d = Datum.from_cbor_hex(cbor_hex)\n",
    "    print(d.as_json())\n",
    "except ValueError as e:\n",
    "    print(\"ERR:\",e)\n"
   ]
  },
  {
   "cell_type": "markdown",
   "metadata": {},
   "source": [
    "#### Redeemers"
   ]
  },
  {
   "cell_type": "code",
   "execution_count": 15,
   "metadata": {},
   "outputs": [
    {
     "data": {
      "text/plain": [
       "'[Action(Deposit { into_account: Some(Address(Address { is_mainnet: true, addr: PubKeyCredential { pkh: PubKeyHash { pkhash: \"1fdc22c9b2339e644d229335129b35e65161839660636675b29aa5a8\" }, staking: Some(Hash { creds: PubKeyHash(\"43b85595ee70ca74e98583872933bec6c67a99982ca2f25547a89b4d\") }) } })), input_from_party: Some(Address(Address { is_mainnet: true, addr: PubKeyCredential { pkh: PubKeyHash { pkhash: \"1fdc22c9b2339e644d229335129b35e65161839660636675b29aa5a8\" }, staking: Some(Hash { creds: PubKeyHash(\"43b85595ee70ca74e98583872933bec6c67a99982ca2f25547a89b4d\") }) } })), of_tokens: Some(Token { currency_symbol: \"85556ab05acc925edff2af02ef819a8b4903bfb5d5e100a7c95ab908\", token_name: \"MarloweLisbon\" }), that_deposits: 1 })]'"
      ]
     },
     "execution_count": 15,
     "metadata": {},
     "output_type": "execute_result"
    }
   ],
   "source": [
    "example_redeemer_cbor_hex = \"9fd8799fd8799fd8799fd87a80d8799fd8799f581c1fdc22c9b2339e644d229335129b35e65161839660636675b29aa5a8ffd8799fd8799fd8799f581c43b85595ee70ca74e98583872933bec6c67a99982ca2f25547a89b4dffffffffffd8799fd87a80d8799fd8799f581c1fdc22c9b2339e644d229335129b35e65161839660636675b29aa5a8ffd8799fd8799fd8799f581c43b85595ee70ca74e98583872933bec6c67a99982ca2f25547a89b4dffffffffffd8799f581c85556ab05acc925edff2af02ef819a8b4903bfb5d5e100a7c95ab9084d4d61726c6f77654c6973626f6eff01ffffff\"\n",
    "decode_redeemer_from_cbor_hex(example_redeemer_cbor_hex)"
   ]
  },
  {
   "cell_type": "markdown",
   "metadata": {},
   "source": [
    "#### Encode datum to cbor-hex"
   ]
  },
  {
   "cell_type": "code",
   "execution_count": 16,
   "metadata": {},
   "outputs": [
    {
     "data": {
      "text/plain": [
       "'d8799fd8799f581c8bb3b343d8e404472337966a722150048c768d0a92a9813596c5338dffd8799fa1d8799fd8799fd87980d8799fd8799f581ce0dc70fa9698727e439df458436797d057cdfea5e7c2844d12b6af8affd87a80ffffd8799f4040ffff1a002dc6c0a0a000ffd87a9fd8799fd87980d8799fd8799f581ce0dc70fa9698727e439df458436797d057cdfea5e7c2844d12b6af8affd87a80ffffd87a9fd87a9f4f5769746864726177616c5465737431ffffd8799f4040ffd87a9f1a00989680ffd87980ffff'"
      ]
     },
     "execution_count": 16,
     "metadata": {},
     "output_type": "execute_result"
    }
   ],
   "source": [
    "example_datum_cbor_hex = 'd8799fd8799f581c8bb3b343d8e404472337966a722150048c768d0a92a9813596c5338dffd8799fa1d8799fd8799fd87980d8799fd8799f581ce0dc70fa9698727e439df458436797d057cdfea5e7c2844d12b6af8affd87a80ffffd8799f4040ffff1a002dc6c0a0a000ffd87a9fd8799fd87980d8799fd8799f581ce0dc70fa9698727e439df458436797d057cdfea5e7c2844d12b6af8affd87a80ffffd87a9fd87a9f4f5769746864726177616c5465737431ffffd8799f4040ffd87a9f1a00989680ffd87980ffff'\n",
    "d = Datum.from_cbor_hex(example_datum_cbor_hex)\n",
    "d.as_cbor_hex()\n"
   ]
  },
  {
   "cell_type": "markdown",
   "metadata": {},
   "source": [
    "### Contract status"
   ]
  },
  {
   "cell_type": "code",
   "execution_count": 17,
   "metadata": {},
   "outputs": [
    {
     "name": "stdout",
     "output_type": "stream",
     "text": [
      "Bad contract: Generic(\"Unable to perform payment as the account ((Address \\\"addr_test1vrsdcu86j6v8yljrnh69ssm8jlg90n075hnu9pzdz2m2lzsdlspjq\\\")) does not have enough tokens ((Token \\\"\\\" \\\"\\\")). Contract attempted to send '10000000' when the account only contains '3000000'.\")\n",
      "MarloweDatum { marlowe_params: MarloweParams(\"8bb3b343d8e404472337966a722150048c768d0a92a9813596c5338d\"), state: State { accounts: {(Address(Address { is_mainnet: false, addr: PubKeyCredential { pkh: PubKeyHash { pkhash: \"e0dc70fa9698727e439df458436797d057cdfea5e7c2844d12b6af8a\" }, staking: None } }), Token { currency_symbol: \"\", token_name: \"\" }): 3000000}, choices: {}, bound_values: {}, min_time: 0 }, contract: Pay { from_account: Some(Address(Address { is_mainnet: false, addr: PubKeyCredential { pkh: PubKeyHash { pkhash: \"e0dc70fa9698727e439df458436797d057cdfea5e7c2844d12b6af8a\" }, staking: None } })), to: Some(Party(Some(Role { role_token: \"WithdrawalTest1\" }))), token: Some(Token { currency_symbol: \"\", token_name: \"\" }), pay: Some(ConstantValue(10000000)), then: Some(Close) } }\n",
      "\n",
      "------\n",
      "\n",
      "Good contract: Closed\n",
      "MarloweDatum { marlowe_params: MarloweParams(\"7bb1099758c0e54996a560d225f76dc4686aa8a436588baa3d0e0588\"), state: State { accounts: {(Address(Address { is_mainnet: false, addr: PubKeyCredential { pkh: PubKeyHash { pkhash: \"331aaa0e2267ea6c2aece55a24e45de443235bf078f08a615ff49534\" }, staking: Some(Hash { creds: PubKeyHash(\"f5b3b821dcf83c502b8c14161de22f60c1f5115077bba0b8baa63fb2\") }) } }), Token { currency_symbol: \"\", token_name: \"\" }): 3000000}, choices: {}, bound_values: {}, min_time: 0 }, contract: When { when: [Some(Case { case: Some(Deposit { into_account: Some(Role { role_token: \"Provider NFT Handle\" }), party: Some(Role { role_token: \"Provider NFT Handle\" }), of_token: Some(Token { currency_symbol: \"\", token_name: \"\" }), deposits: Some(ConstantValue(7)) }), then: Some(Raw(When { when: [Some(Case { case: Some(Deposit { into_account: Some(Role { role_token: \"Swapper NFT Handle\" }), party: Some(Role { role_token: \"Swapper NFT Handle\" }), of_token: Some(Token { currency_symbol: \"8db269c3ec630e06ae29f74bc39edd1f87c819f1056206e879a1cd61\", token_name: \"djed\" }), deposits: Some(ConstantValue(5)) }), then: Some(Raw(Pay { from_account: Some(Role { role_token: \"Provider NFT Handle\" }), to: Some(Party(Some(Role { role_token: \"Swapper NFT Handle\" }))), token: Some(Token { currency_symbol: \"\", token_name: \"\" }), pay: Some(ConstantValue(7)), then: Some(Pay { from_account: Some(Role { role_token: \"Swapper NFT Handle\" }), to: Some(Party(Some(Role { role_token: \"Provider NFT Handle\" }))), token: Some(Token { currency_symbol: \"8db269c3ec630e06ae29f74bc39edd1f87c819f1056206e879a1cd61\", token_name: \"djed\" }), pay: Some(ConstantValue(5)), then: Some(Close) }) })) })], timeout: Some(TimeConstant(1689270008000)), timeout_continuation: Some(Pay { from_account: Some(Role { role_token: \"Provider NFT Handle\" }), to: Some(Party(Some(Role { role_token: \"Provider NFT Handle\" }))), token: Some(Token { currency_symbol: \"\", token_name: \"\" }), pay: Some(ConstantValue(7)), then: Some(Close) }) })) })], timeout: Some(TimeConstant(1689183608000)), timeout_continuation: Some(Close) } }\n",
      "\n",
      "------\n",
      "\n"
     ]
    }
   ],
   "source": [
    "\n",
    "cbor_hex = 'd8799fd8799f581c8bb3b343d8e404472337966a722150048c768d0a92a9813596c5338dffd8799fa1d8799fd8799fd87980d8799fd8799f581ce0dc70fa9698727e439df458436797d057cdfea5e7c2844d12b6af8affd87a80ffffd8799f4040ffff1a002dc6c0a0a000ffd87a9fd8799fd87980d8799fd8799f581ce0dc70fa9698727e439df458436797d057cdfea5e7c2844d12b6af8affd87a80ffffd87a9fd87a9f4f5769746864726177616c5465737431ffffd8799f4040ffd87a9f1a00989680ffd87980ffff'\n",
    "d = Datum.from_cbor_hex(cbor_hex)\n",
    "\n",
    "try:\n",
    "    d.show_status()\n",
    "except ValueError as e:\n",
    "    # This is actually an invalid contract: https://preprod.marlowescan.com/contractView?tab=state&contractId=077f1d154cbf148842902cafda55b422f4a20a5b5b79b56a8bcee504d06fdd99%231\n",
    "    print(\"Bad contract:\",e)\n",
    "    print(d.as_string())\n",
    "\n",
    "print(\"\\n------\\n\")\n",
    "cbor_hex = \"d8799fd8799f581c7bb1099758c0e54996a560d225f76dc4686aa8a436588baa3d0e0588ffd8799fa1d8799fd8799fd87980d8799fd8799f581c331aaa0e2267ea6c2aece55a24e45de443235bf078f08a615ff49534ffd8799fd8799fd8799f581cf5b3b821dcf83c502b8c14161de22f60c1f5115077bba0b8baa63fb2ffffffffffd8799f4040ffff1a002dc6c0a0a000ffd87c9f9fd8799fd8799fd87a9f5350726f7669646572204e46542048616e646c65ffd87a9f5350726f7669646572204e46542048616e646c65ffd8799f4040ffd87a9f07ffffd87c9f9fd8799fd8799fd87a9f5253776170706572204e46542048616e646c65ffd87a9f5253776170706572204e46542048616e646c65ffd8799f581c8db269c3ec630e06ae29f74bc39edd1f87c819f1056206e879a1cd6144646a6564ffd87a9f05ffffd87a9fd87a9f5350726f7669646572204e46542048616e646c65ffd87a9fd87a9f5253776170706572204e46542048616e646c65ffffd8799f4040ffd87a9f07ffd87a9fd87a9f5253776170706572204e46542048616e646c65ffd87a9fd87a9f5350726f7669646572204e46542048616e646c65ffffd8799f581c8db269c3ec630e06ae29f74bc39edd1f87c819f1056206e879a1cd6144646a6564ffd87a9f05ffd87980ffffffff1b000001895056b8c0d87a9fd87a9f5350726f7669646572204e46542048616e646c65ffd87a9fd87a9f5350726f7669646572204e46542048616e646c65ffffd8799f4040ffd87a9f07ffd87980ffffffff1b000001894b305cc0d87980ffff\"\n",
    "d = Datum.from_cbor_hex(cbor_hex)\n",
    "print(\"Good contract:\",d.show_status())\n",
    "print(d.as_string())\n",
    "\n",
    "print(\"\\n------\\n\")\n"
   ]
  },
  {
   "cell_type": "markdown",
   "metadata": {},
   "source": [
    "## TODO / WIP SECTION\n",
    "\n",
    "Not yet decided how the API's for creating Marlowe contracts in Python should look like.."
   ]
  },
  {
   "cell_type": "markdown",
   "metadata": {},
   "source": [
    "---"
   ]
  },
  {
   "cell_type": "code",
   "execution_count": 18,
   "metadata": {},
   "outputs": [],
   "source": [
    "from marlowe import  *\n",
    "import json\n",
    "Role = Party.Role\n",
    "Address = Party.Address\n",
    "ADA = Token.ADA()\n",
    "Constant = Value.Constant\n",
    "TimeConst = Timeout.TimeConstant\n",
    "TimeParam = Timeout.TimeParam\n",
    "When = Contract.When\n",
    "Close = Contract.Close\n",
    "Deposit = Case.Deposit"
   ]
  },
  {
   "cell_type": "markdown",
   "metadata": {},
   "source": [
    "### Contract construction"
   ]
  },
  {
   "cell_type": "code",
   "execution_count": 19,
   "metadata": {},
   "outputs": [
    {
     "name": "stdout",
     "output_type": "stream",
     "text": [
      "DSL:  When [ (Case (Deposit (Role \"KALLE\") (Role \"kalle\") (Token \"\" \"\") (Constant 12345678)) Close) ] 999999999 Close\n",
      "\n",
      "JSON:  {'when': [{'then': 'close', 'case': {'party': {'role_token': 'kalle'}, 'of_token': {'token_name': '', 'currency_symbol': ''}, 'into_account': {'role_token': 'KALLE'}, 'deposits': 12345678}}], 'timeout_continuation': 'close', 'timeout': 999999999}\n",
      "\n",
      "RUST STRING:  When { when: [Some(Case { case: Some(Deposit { into_account: Some(Role { role_token: \"KALLE\" }), party: Some(Role { role_token: \"kalle\" }), of_token: Some(Token { currency_symbol: \"\", token_name: \"\" }), deposits: Some(ConstantValue(12345678)) }), then: Some(Raw(Close)) })], timeout: Some(TimeConstant(999999999)), timeout_continuation: Some(Close) }\n",
      "\n"
     ]
    }
   ],
   "source": [
    "my_contract = When(case=[\n",
    "    Deposit(\n",
    "        by=Role(\"kalle\"),\n",
    "        value=Constant(12345678), \n",
    "        of_token=ADA, \n",
    "        into_account=Role(\"KALLE\"),\n",
    "        then_continue_with=Close()\n",
    "    )\n",
    "], timeout=TimeConst(999999999), contract=Close())\n",
    "\n",
    "print(\"DSL: \",my_contract.as_marlowe_dsl())\n",
    "print(\"\")\n",
    "print(\"JSON: \",json.loads(my_contract.as_json()))\n",
    "\n",
    "print(\"\")\n",
    "print(\"RUST STRING: \",my_contract.as_string())\n",
    "print(\"\")\n",
    "\n",
    "\n"
   ]
  },
  {
   "cell_type": "markdown",
   "metadata": {},
   "source": [
    "### Datum construction"
   ]
  },
  {
   "cell_type": "code",
   "execution_count": 21,
   "metadata": {},
   "outputs": [
    {
     "name": "stdout",
     "output_type": "stream",
     "text": [
      "DATUM AS RUST STRING : MarloweDatum { marlowe_params: MarloweParams(\"\"), state: State { accounts: {}, choices: {}, bound_values: {}, min_time: 1689513067573 }, contract: When { when: [Some(Case { case: Some(Deposit { into_account: Some(Role { role_token: \"KALLE\" }), party: Some(Role { role_token: \"kalle\" }), of_token: Some(Token { currency_symbol: \"\", token_name: \"\" }), deposits: Some(ConstantValue(12345678)) }), then: Some(Raw(Close)) })], timeout: Some(TimeConstant(999999999)), timeout_continuation: Some(Close) } }\n",
      "\n",
      "DATUM AS CBORHEX : d8799fd8799f40ffd8799fa0a0a01b000001895ed38435ffd87c9f9fd8799fd8799fd87a9f454b414c4c45ffd87a9f456b616c6c65ffd8799f4040ffd87a9f1a00bc614effffd87980ffff1a3b9ac9ffd87980ffff\n"
     ]
    }
   ],
   "source": [
    "datum = Datum.from_contract(\n",
    "    my_contract,\n",
    "    \"\" # <-- payout_validator_hash\n",
    ")\n",
    "print(\"DATUM AS RUST STRING :\",datum.as_string())\n",
    "print(\"\")\n",
    "print(\"DATUM AS CBORHEX :\", datum.as_cbor_hex())"
   ]
  }
 ],
 "metadata": {
  "kernelspec": {
   "display_name": "Python 3",
   "language": "python",
   "name": "python3"
  },
  "language_info": {
   "codemirror_mode": {
    "name": "ipython",
    "version": 3
   },
   "file_extension": ".py",
   "mimetype": "text/x-python",
   "name": "python",
   "nbconvert_exporter": "python",
   "pygments_lexer": "ipython3",
   "version": "3.11.4"
  },
  "orig_nbformat": 4
 },
 "nbformat": 4,
 "nbformat_minor": 2
}
