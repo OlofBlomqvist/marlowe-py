{
 "cells": [
  {
   "cell_type": "markdown",
   "metadata": {},
   "source": [
    "# MARLOWE-PY\n",
    "\n",
    "Marlowe-RS (marlowe_lang) packaged as a python module!\n",
    "\n"
   ]
  },
  {
   "cell_type": "markdown",
   "metadata": {},
   "source": [
    "### INITIALIZE"
   ]
  },
  {
   "cell_type": "code",
   "execution_count": 2,
   "metadata": {},
   "outputs": [
    {
     "data": {
      "text/plain": [
       "'marlowe-py: 0.1.6, marlowe-rs: 0.3.2'"
      ]
     },
     "execution_count": 2,
     "metadata": {},
     "output_type": "execute_result"
    }
   ],
   "source": [
    "from marlowe import  *\n",
    "version()"
   ]
  },
  {
   "cell_type": "code",
   "execution_count": 11,
   "metadata": {},
   "outputs": [
    {
     "data": {
      "text/plain": [
       "'9fd8799fd87a9fd8799f46416d6f756e74d8799fd87a80d8799fd8799f581c92be0cd4a180ddc43c8b1d01b18256a04eca5fd844f75cccfffd872bffd8799fd8799fd8799f581cc3f6055df348bbdf443716d783e215a781c504a256c349ea6c72bea4ffffffffffff1a0013310fffffff'"
      ]
     },
     "execution_count": 11,
     "metadata": {},
     "output_type": "execute_result"
    }
   ],
   "source": [
    "# Create cbor encoded marlowe redeemer from json array of marlowe input actions\n",
    "json = \"\"\"[{\n",
    "  \"for_choice_id\": {\n",
    "    \"choice_owner\": {\n",
    "      \"address\":\n",
    "        \"addr1qxfturx55xqdm3pu3vwsrvvz26syajjlmpz0whxvll7cw27r7cz4mu6gh005gdck67p7y9d8s8zsfgjkcdy75mrjh6jqjy687a\"\n",
    "    },\n",
    "    \"choice_name\": \"Amount\"\n",
    "  },\n",
    "  \"input_that_chooses_num\": 1257743\n",
    "}]\"\"\"\n",
    "\n",
    "inputs_json_to_cbor(json)\n"
   ]
  },
  {
   "cell_type": "markdown",
   "metadata": {},
   "source": [
    "### Working with JSON"
   ]
  },
  {
   "cell_type": "code",
   "execution_count": 5,
   "metadata": {},
   "outputs": [
    {
     "name": "stdout",
     "output_type": "stream",
     "text": [
      "OK: When [  ] 121231233 Close\n"
     ]
    }
   ],
   "source": [
    "j = '{\"when\": [],\"timeout_continuation\": \"close\",\"timeout\": 121231233}'\n",
    "\n",
    "try:\n",
    "    parsed_from_json = Contract.from_json(j)\n",
    "    converted_to_dsl = parsed_from_json.as_marlowe_dsl()\n",
    "    print(\"OK:\",converted_to_dsl)\n",
    "except ValueError as e:\n",
    "    print(\"ERR:\",e)\n",
    "\n",
    "    "
   ]
  },
  {
   "cell_type": "markdown",
   "metadata": {},
   "source": [
    "### Working with Marlowe DSL"
   ]
  },
  {
   "cell_type": "code",
   "execution_count": 4,
   "metadata": {},
   "outputs": [
    {
     "name": "stdout",
     "output_type": "stream",
     "text": [
      "{\n",
      "  \"when\": [],\n",
      "  \"timeout_continuation\": \"close\",\n",
      "  \"timeout\": 123213\n",
      "}\n"
     ]
    }
   ],
   "source": [
    "dsl = 'When [] (TimeParam \"a\") Close'\n",
    "\n",
    "try:\n",
    "    contract = Contract.from_marlowe_dsl(dsl,[(\"a\",123213)])\n",
    "    print(contract.as_json())\n",
    "except ValueError as e:\n",
    "    print(\"ERR:\",e)\n"
   ]
  },
  {
   "cell_type": "markdown",
   "metadata": {},
   "source": [
    "### Working with CBOR"
   ]
  },
  {
   "cell_type": "markdown",
   "metadata": {},
   "source": [
    "#### Datums"
   ]
  },
  {
   "cell_type": "code",
   "execution_count": 5,
   "metadata": {},
   "outputs": [
    {
     "name": "stdout",
     "output_type": "stream",
     "text": [
      "{\n",
      "  \"marlowe_params\": \"8bb3b343d8e404472337966a722150048c768d0a92a9813596c5338d\",\n",
      "  \"state\": {\n",
      "    \"accounts\": [\n",
      "      [\n",
      "        [\n",
      "          {\n",
      "            \"address\": \"addr_test1vrsdcu86j6v8yljrnh69ssm8jlg90n075hnu9pzdz2m2lzsdlspjq\"\n",
      "          },\n",
      "          {\n",
      "            \"token_name\": \"\",\n",
      "            \"currency_symbol\": \"\"\n",
      "          }\n",
      "        ],\n",
      "        3000000\n",
      "      ]\n",
      "    ],\n",
      "    \"choices\": [],\n",
      "    \"boundValues\": [],\n",
      "    \"minTime\": 0\n",
      "  },\n",
      "  \"contract\": {\n",
      "    \"token\": {\n",
      "      \"token_name\": \"\",\n",
      "      \"currency_symbol\": \"\"\n",
      "    },\n",
      "    \"to\": {\n",
      "      \"party\": {\n",
      "        \"role_token\": \"WithdrawalTest1\"\n",
      "      }\n",
      "    },\n",
      "    \"then\": \"close\",\n",
      "    \"pay\": 10000000,\n",
      "    \"from_account\": {\n",
      "      \"address\": \"addr_test1vrsdcu86j6v8yljrnh69ssm8jlg90n075hnu9pzdz2m2lzsdlspjq\"\n",
      "    }\n",
      "  }\n",
      "}\n"
     ]
    }
   ],
   "source": [
    "cbor_hex = 'd8799fd8799f581c8bb3b343d8e404472337966a722150048c768d0a92a9813596c5338dffd8799fa1d8799fd8799fd87980d8799fd8799f581ce0dc70fa9698727e439df458436797d057cdfea5e7c2844d12b6af8affd87a80ffffd8799f4040ffff1a002dc6c0a0a000ffd87a9fd8799fd87980d8799fd8799f581ce0dc70fa9698727e439df458436797d057cdfea5e7c2844d12b6af8affd87a80ffffd87a9fd87a9f4f5769746864726177616c5465737431ffffd8799f4040ffd87a9f1a00989680ffd87980ffff'\n",
    "\n",
    "try:\n",
    "    d = Datum.from_cbor_hex(cbor_hex)\n",
    "    print(d.as_json())\n",
    "except ValueError as e:\n",
    "    print(\"ERR:\",e)\n"
   ]
  },
  {
   "cell_type": "markdown",
   "metadata": {},
   "source": [
    "#### Redeemers"
   ]
  },
  {
   "cell_type": "code",
   "execution_count": 6,
   "metadata": {},
   "outputs": [
    {
     "data": {
      "text/plain": [
       "'[Action(Deposit { into_account: Some(Address(addr1qy0acgkfkgeeuezdy2fn2y5mxhn9zcvrjesxxen4k2d2t2zrhp2etmnsef6wnpvrsu5n80kxceafnxpv5te923agndxshwgt4u)), input_from_party: Some(Address(addr1qy0acgkfkgeeuezdy2fn2y5mxhn9zcvrjesxxen4k2d2t2zrhp2etmnsef6wnpvrsu5n80kxceafnxpv5te923agndxshwgt4u)), of_tokens: Some(Token { currency_symbol: \"85556ab05acc925edff2af02ef819a8b4903bfb5d5e100a7c95ab908\", token_name: \"MarloweLisbon\" }), that_deposits: 1 })]'"
      ]
     },
     "execution_count": 6,
     "metadata": {},
     "output_type": "execute_result"
    }
   ],
   "source": [
    "example_redeemer_cbor_hex = \"9fd8799fd8799fd8799fd87a80d8799fd8799f581c1fdc22c9b2339e644d229335129b35e65161839660636675b29aa5a8ffd8799fd8799fd8799f581c43b85595ee70ca74e98583872933bec6c67a99982ca2f25547a89b4dffffffffffd8799fd87a80d8799fd8799f581c1fdc22c9b2339e644d229335129b35e65161839660636675b29aa5a8ffd8799fd8799fd8799f581c43b85595ee70ca74e98583872933bec6c67a99982ca2f25547a89b4dffffffffffd8799f581c85556ab05acc925edff2af02ef819a8b4903bfb5d5e100a7c95ab9084d4d61726c6f77654c6973626f6eff01ffffff\"\n",
    "decode_redeemer_from_cbor_hex(example_redeemer_cbor_hex)"
   ]
  },
  {
   "cell_type": "markdown",
   "metadata": {},
   "source": [
    "#### Encode datum to cbor-hex"
   ]
  },
  {
   "cell_type": "code",
   "execution_count": 7,
   "metadata": {},
   "outputs": [
    {
     "data": {
      "text/plain": [
       "'d8799fd8799f581c8bb3b343d8e404472337966a722150048c768d0a92a9813596c5338dffd8799fa1d8799fd8799fd87980d8799fd8799f581ce0dc70fa9698727e439df458436797d057cdfea5e7c2844d12b6af8affd87a80ffffd8799f4040ffff1a002dc6c0a0a000ffd87a9fd8799fd87980d8799fd8799f581ce0dc70fa9698727e439df458436797d057cdfea5e7c2844d12b6af8affd87a80ffffd87a9fd87a9f4f5769746864726177616c5465737431ffffd8799f4040ffd87a9f1a00989680ffd87980ffff'"
      ]
     },
     "execution_count": 7,
     "metadata": {},
     "output_type": "execute_result"
    }
   ],
   "source": [
    "example_datum_cbor_hex = 'd8799fd8799f581c8bb3b343d8e404472337966a722150048c768d0a92a9813596c5338dffd8799fa1d8799fd8799fd87980d8799fd8799f581ce0dc70fa9698727e439df458436797d057cdfea5e7c2844d12b6af8affd87a80ffffd8799f4040ffff1a002dc6c0a0a000ffd87a9fd8799fd87980d8799fd8799f581ce0dc70fa9698727e439df458436797d057cdfea5e7c2844d12b6af8affd87a80ffffd87a9fd87a9f4f5769746864726177616c5465737431ffffd8799f4040ffd87a9f1a00989680ffd87980ffff'\n",
    "d = Datum.from_cbor_hex(example_datum_cbor_hex)\n",
    "d.as_cbor_hex()\n"
   ]
  },
  {
   "cell_type": "markdown",
   "metadata": {},
   "source": [
    "### Contract status"
   ]
  },
  {
   "cell_type": "code",
   "execution_count": 8,
   "metadata": {},
   "outputs": [
    {
     "name": "stdout",
     "output_type": "stream",
     "text": [
      "\n",
      "------\n",
      "\n",
      "Good contract: Closed\n",
      "MarloweDatum { marlowe_params: MarloweParams(\"7bb1099758c0e54996a560d225f76dc4686aa8a436588baa3d0e0588\"), state: State { accounts: AccMap({(Address(addr_test1qqe342swyfn75mp2anj45f8ythjyxg6m7pu0pznptl6f2d84kwuzrh8c83gzhrq5zcw7ytmqc863z5rhhwst3w4x87eq0td9ja), Token { currency_symbol: \"\", token_name: \"\" }): 3000000}), choices: AccMap({}), bound_values: AccMap({}), min_time: 0 }, contract: When { when: [Some(Raw { case: Some(Deposit { into_account: Some(Role { role_token: \"Provider NFT Handle\" }), party: Some(Role { role_token: \"Provider NFT Handle\" }), of_token: Some(Token { currency_symbol: \"\", token_name: \"\" }), deposits: Some(ConstantValue(7)) }), then: Some(When { when: [Some(Raw { case: Some(Deposit { into_account: Some(Role { role_token: \"Swapper NFT Handle\" }), party: Some(Role { role_token: \"Swapper NFT Handle\" }), of_token: Some(Token { currency_symbol: \"8db269c3ec630e06ae29f74bc39edd1f87c819f1056206e879a1cd61\", token_name: \"djed\" }), deposits: Some(ConstantValue(5)) }), then: Some(Pay { from_account: Some(Role { role_token: \"Provider NFT Handle\" }), to: Some(Party(Some(Role { role_token: \"Swapper NFT Handle\" }))), token: Some(Token { currency_symbol: \"\", token_name: \"\" }), pay: Some(ConstantValue(7)), then: Some(Pay { from_account: Some(Role { role_token: \"Swapper NFT Handle\" }), to: Some(Party(Some(Role { role_token: \"Provider NFT Handle\" }))), token: Some(Token { currency_symbol: \"8db269c3ec630e06ae29f74bc39edd1f87c819f1056206e879a1cd61\", token_name: \"djed\" }), pay: Some(ConstantValue(5)), then: Some(Close) }) }) })], timeout: Some(TimeConstant(1689270008000)), timeout_continuation: Some(Pay { from_account: Some(Role { role_token: \"Provider NFT Handle\" }), to: Some(Party(Some(Role { role_token: \"Provider NFT Handle\" }))), token: Some(Token { currency_symbol: \"\", token_name: \"\" }), pay: Some(ConstantValue(7)), then: Some(Close) }) }) })], timeout: Some(TimeConstant(1689183608000)), timeout_continuation: Some(Close) } }\n",
      "\n",
      "------\n",
      "\n"
     ]
    }
   ],
   "source": [
    "\n",
    "cbor_hex = 'd8799fd8799f581c8bb3b343d8e404472337966a722150048c768d0a92a9813596c5338dffd8799fa1d8799fd8799fd87980d8799fd8799f581ce0dc70fa9698727e439df458436797d057cdfea5e7c2844d12b6af8affd87a80ffffd8799f4040ffff1a002dc6c0a0a000ffd87a9fd8799fd87980d8799fd8799f581ce0dc70fa9698727e439df458436797d057cdfea5e7c2844d12b6af8affd87a80ffffd87a9fd87a9f4f5769746864726177616c5465737431ffffd8799f4040ffd87a9f1a00989680ffd87980ffff'\n",
    "d = Datum.from_cbor_hex(cbor_hex)\n",
    "\n",
    "try:\n",
    "    d.show_status()\n",
    "except ValueError as e:\n",
    "    # This is actually an invalid contract: https://preprod.marlowescan.com/contractView?tab=state&contractId=077f1d154cbf148842902cafda55b422f4a20a5b5b79b56a8bcee504d06fdd99%231\n",
    "    print(\"Bad contract:\",e)\n",
    "    print(d.as_string())\n",
    "\n",
    "print(\"\\n------\\n\")\n",
    "cbor_hex = \"d8799fd8799f581c7bb1099758c0e54996a560d225f76dc4686aa8a436588baa3d0e0588ffd8799fa1d8799fd8799fd87980d8799fd8799f581c331aaa0e2267ea6c2aece55a24e45de443235bf078f08a615ff49534ffd8799fd8799fd8799f581cf5b3b821dcf83c502b8c14161de22f60c1f5115077bba0b8baa63fb2ffffffffffd8799f4040ffff1a002dc6c0a0a000ffd87c9f9fd8799fd8799fd87a9f5350726f7669646572204e46542048616e646c65ffd87a9f5350726f7669646572204e46542048616e646c65ffd8799f4040ffd87a9f07ffffd87c9f9fd8799fd8799fd87a9f5253776170706572204e46542048616e646c65ffd87a9f5253776170706572204e46542048616e646c65ffd8799f581c8db269c3ec630e06ae29f74bc39edd1f87c819f1056206e879a1cd6144646a6564ffd87a9f05ffffd87a9fd87a9f5350726f7669646572204e46542048616e646c65ffd87a9fd87a9f5253776170706572204e46542048616e646c65ffffd8799f4040ffd87a9f07ffd87a9fd87a9f5253776170706572204e46542048616e646c65ffd87a9fd87a9f5350726f7669646572204e46542048616e646c65ffffd8799f581c8db269c3ec630e06ae29f74bc39edd1f87c819f1056206e879a1cd6144646a6564ffd87a9f05ffd87980ffffffff1b000001895056b8c0d87a9fd87a9f5350726f7669646572204e46542048616e646c65ffd87a9fd87a9f5350726f7669646572204e46542048616e646c65ffffd8799f4040ffd87a9f07ffd87980ffffffff1b000001894b305cc0d87980ffff\"\n",
    "d = Datum.from_cbor_hex(cbor_hex)\n",
    "print(\"Good contract:\",d.show_status())\n",
    "\n",
    "print(d.as_string())\n",
    "\n",
    "print(\"\\n------\\n\")\n"
   ]
  },
  {
   "cell_type": "markdown",
   "metadata": {},
   "source": [
    "## TODO / WIP SECTION\n",
    "\n",
    "Not yet decided how the API's for creating Marlowe contracts in Python should look like.."
   ]
  },
  {
   "cell_type": "markdown",
   "metadata": {},
   "source": [
    "---"
   ]
  },
  {
   "cell_type": "code",
   "execution_count": 9,
   "metadata": {},
   "outputs": [],
   "source": [
    "from marlowe import  *\n",
    "import json\n",
    "Role = Party.Role\n",
    "Address = Party.Address\n",
    "ADA = Token.ADA()\n",
    "Constant = Value.Constant\n",
    "TimeConst = Timeout.TimeConstant\n",
    "TimeParam = Timeout.TimeParam\n",
    "When = Contract.When\n",
    "Close = Contract.Close\n",
    "Deposit = Case.Deposit"
   ]
  },
  {
   "cell_type": "markdown",
   "metadata": {},
   "source": [
    "### Contract construction"
   ]
  },
  {
   "cell_type": "code",
   "execution_count": 10,
   "metadata": {},
   "outputs": [
    {
     "name": "stdout",
     "output_type": "stream",
     "text": [
      "DSL:  When [ (Case (Deposit (Role \"Seller\") (Role \"Buyer\") (Token \"\" \"\") (ConstantParam \"Price\")) (When [ (Case (Choice (ChoiceId \"Everything is alright\" (Role \"Buyer\")) [(Bound 0 0)]) Close),\n",
      "(Case (Choice (ChoiceId \"Report problem\" (Role \"Buyer\")) [(Bound 1 1)]) (Pay (Role \"Seller\") (Account (Role \"Buyer\")) (Token \"\" \"\") (ConstantParam \"Price\") (When [ (Case (Choice (ChoiceId \"Confirm problem\" (Role \"Seller\")) [(Bound 1 1)]) Close),\n",
      "(Case (Choice (ChoiceId \"Dispute problem\" (Role \"Seller\")) [(Bound 0 0)]) (When [ (Case (Choice (ChoiceId \"Dismiss claim\" (Role \"Mediator\")) [(Bound 0 0)]) (Pay (Role \"Buyer\") (Party (Role \"Seller\")) (Token \"\" \"\") (ConstantParam \"Price\") Close)),\n",
      "(Case (Choice (ChoiceId \"Confirm problem\" (Role \"Mediator\")) [(Bound 1 1)]) Close) ] (TimeParam \"Mediation deadline\") Close)) ] (TimeParam \"Complaint response deadline\") Close))) ] (TimeParam \"Complaint deadline\") Close)) ] (TimeParam \"Payment deadline\") Close\n"
     ]
    }
   ],
   "source": [
    "my_contract = Contract.When(\n",
    "    case=[\n",
    "        Case.Deposit(\n",
    "            into_account=Party.Role(\"Seller\"),\n",
    "            by=Party.Role(\"Buyer\"),\n",
    "            of_token=Token.ADA(),\n",
    "            value=Value.ConstantParam(\"Price\"),\n",
    "            then_continue_with=PossiblyMerkleizedContract.raw(\n",
    "                contract=Contract.When(\n",
    "                    case=[\n",
    "                        Case.Choice(\n",
    "                            choice_name=\"Everything is alright\",\n",
    "                            choice_owner=Party.Role(\"Buyer\"),\n",
    "                            bounds=[Bound(0, 0)],\n",
    "                            then_continue_with=PossiblyMerkleizedContract.raw(\n",
    "                                contract=Contract.Close()\n",
    "                            ),\n",
    "                        ),\n",
    "                        Case.Choice(\n",
    "                            choice_name=\"Report problem\",\n",
    "                            choice_owner=Party.Role(\"Buyer\"),\n",
    "                            bounds=[Bound(1, 1)],\n",
    "                            then_continue_with=PossiblyMerkleizedContract.raw(\n",
    "                                contract=Contract.Pay(\n",
    "                                    from_account_of=Party.Role(\"Seller\"),\n",
    "                                    to=Payee.Account(Party.Role(\"Buyer\")),\n",
    "                                    token=Token.ADA(),\n",
    "                                    pay=Value.ConstantParam(\"Price\"),\n",
    "                                    then=Contract.When(\n",
    "                                        case=[\n",
    "                                            Case.Choice(\n",
    "                                                choice_name=\"Confirm problem\",\n",
    "                                                choice_owner=Party.Role(\"Seller\"),\n",
    "                                                bounds=[Bound(1, 1)],\n",
    "                                                then_continue_with=PossiblyMerkleizedContract.raw(\n",
    "                                                    contract=Contract.Close()\n",
    "                                                ),\n",
    "                                            ),\n",
    "                                            Case.Choice(\n",
    "                                                choice_name=\"Dispute problem\",\n",
    "                                                choice_owner=Party.Role(\"Seller\"),\n",
    "                                                bounds=[Bound(0, 0)],\n",
    "                                                then_continue_with=PossiblyMerkleizedContract.raw(\n",
    "                                                    contract=Contract.When(\n",
    "                                                        case=[\n",
    "                                                            Case.Choice(\n",
    "                                                                choice_name=\"Dismiss claim\",\n",
    "                                                                choice_owner=Party.Role(\n",
    "                                                                    \"Mediator\"\n",
    "                                                                ),\n",
    "                                                                bounds=[Bound(0, 0)],\n",
    "                                                                then_continue_with=PossiblyMerkleizedContract.raw(\n",
    "                                                                    contract=Contract.Pay(\n",
    "                                                                        from_account_of=Party.Role(\n",
    "                                                                            \"Buyer\"\n",
    "                                                                        ),\n",
    "                                                                        to=Payee.Party(\n",
    "                                                                            Party.Role(\n",
    "                                                                                \"Seller\"\n",
    "                                                                            )\n",
    "                                                                        ),\n",
    "                                                                        token=Token.ADA(),\n",
    "                                                                        pay=Value.ConstantParam(\n",
    "                                                                            \"Price\"\n",
    "                                                                        ),\n",
    "                                                                        then=Contract.Close(),\n",
    "                                                                    )\n",
    "                                                                ),\n",
    "                                                            ),\n",
    "                                                            Case.Choice(\n",
    "                                                                choice_name=\"Confirm problem\",\n",
    "                                                                choice_owner=Party.Role(\n",
    "                                                                    \"Mediator\"\n",
    "                                                                ),\n",
    "                                                                bounds=[Bound(1, 1)],\n",
    "                                                                then_continue_with=PossiblyMerkleizedContract.raw(\n",
    "                                                                    contract=Contract.Close()\n",
    "                                                                ),\n",
    "                                                            ),\n",
    "                                                        ],\n",
    "                                                        timeout=Timeout.TimeParam(\n",
    "                                                            \"Mediation deadline\"\n",
    "                                                        ),\n",
    "                                                        timeout_continuation=Contract.Close(),\n",
    "                                                    )\n",
    "                                                ),\n",
    "                                            ),\n",
    "                                        ],\n",
    "                                        timeout=Timeout.TimeParam(\n",
    "                                            \"Complaint response deadline\"\n",
    "                                        ),\n",
    "                                        timeout_continuation=Contract.Close(),\n",
    "                                    ),\n",
    "                                )\n",
    "                            ),\n",
    "                        ),\n",
    "                    ],\n",
    "                    timeout=Timeout.TimeParam(\"Complaint deadline\"),\n",
    "                    timeout_continuation=Contract.Close(),\n",
    "                )\n",
    "            ),\n",
    "        )\n",
    "    ],\n",
    "    timeout=Timeout.TimeParam(\"Payment deadline\"),\n",
    "    timeout_continuation=Contract.Close(),\n",
    ")\n",
    "\n",
    "\n",
    "\n",
    "print(\"DSL: \",my_contract.as_marlowe_dsl())\n",
    "\n",
    "\n",
    "\n"
   ]
  },
  {
   "cell_type": "markdown",
   "metadata": {},
   "source": [
    "### Datum construction"
   ]
  },
  {
   "cell_type": "code",
   "execution_count": 11,
   "metadata": {},
   "outputs": [
    {
     "name": "stdout",
     "output_type": "stream",
     "text": [
      "DATUM AS RUST STRING : MarloweDatum { marlowe_params: MarloweParams(\"\"), state: State { accounts: AccMap({}), choices: AccMap({}), bound_values: AccMap({}), min_time: 1693680196000 }, contract: When { when: [Some(Raw { case: Some(Deposit { into_account: Some(Role { role_token: \"KALLE\" }), party: Some(Role { role_token: \"kalle\" }), of_token: Some(Token { currency_symbol: \"\", token_name: \"\" }), deposits: Some(ConstantValue(12345678)) }), then: Some(Close) })], timeout: Some(TimeConstant(999999999)), timeout_continuation: Some(Close) } }\n",
      "\n",
      "DATUM AS CBORHEX : d8799fd8799f40ffd8799fa0a0a01b0000018a5734d9a0ffd87c9f9fd8799fd8799fd87a9f454b414c4c45ffd87a9f456b616c6c65ffd8799f4040ffd87a9f1a00bc614effffd87980ffff1a3b9ac9ffd87980ffff\n"
     ]
    }
   ],
   "source": [
    "datum = Datum.from_contract(\n",
    "    When(\n",
    "        case=[\n",
    "            Deposit(\n",
    "                by=Role(\"kalle\"),\n",
    "                value=Constant(12345678), \n",
    "                of_token=ADA, \n",
    "                into_account=Role(\"KALLE\"),\n",
    "                then_continue_with=  raw(Close()) # merkleized(\"some hash\")\n",
    "            )\n",
    "        ], \n",
    "        timeout=TimeConst(999999999), \n",
    "        timeout_continuation=Close()\n",
    "    )\n",
    "    ,\n",
    "    \"\" # <-- payout_validator_hash\n",
    ")\n",
    "print(\"DATUM AS RUST STRING :\",datum.as_string())\n",
    "print(\"\")\n",
    "print(\"DATUM AS CBORHEX :\", datum.as_cbor_hex())"
   ]
  },
  {
   "cell_type": "markdown",
   "metadata": {},
   "source": [
    "### Marlowe to Python\n",
    "\n",
    "Highly unstable"
   ]
  },
  {
   "cell_type": "code",
   "execution_count": 12,
   "metadata": {},
   "outputs": [
    {
     "name": "stdout",
     "output_type": "stream",
     "text": [
      "Contract.When(\n",
      "    case=[\n",
      "        Case.Deposit(\n",
      "            into_account=Party.Role(\"Seller\"),\n",
      "            by=Party.Role(\"Buyer\"),\n",
      "            of_token=Token.ADA(),\n",
      "            value=Value.ConstantParam(\"Price\"),\n",
      "            then_continue_with=PossiblyMerkleizedContract.raw(\n",
      "                Contract.When(\n",
      "                    case=[\n",
      "                        Case.Choice(\n",
      "                            choice_name=\"Everything is alright\",\n",
      "                            choice_owner=Party.Role(\"Buyer\"),\n",
      "                            bounds=[Bound(0, 0)],\n",
      "                            then_continue_with=PossiblyMerkleizedContract.raw(\n",
      "                                Contract.Close()\n",
      "                            ),\n",
      "                        ),\n",
      "                        Case.Choice(\n",
      "                            choice_name=\"Report problem\",\n",
      "                            choice_owner=Party.Role(\"Buyer\"),\n",
      "                            bounds=[Bound(1, 1)],\n",
      "                            then_continue_with=PossiblyMerkleizedContract.raw(\n",
      "                                Contract.Pay(\n",
      "                                    from_account_of=Party.Role(\"Seller\"),\n",
      "                                    to=Payee.Account(Party.Role(\"Buyer\")),\n",
      "                                    token=Token.ADA(),\n",
      "                                    pay=Value.ConstantParam(\"Price\"),\n",
      "                                    then=Contract.When(\n",
      "                                        case=[\n",
      "                                            Case.Choice(\n",
      "                                                choice_name=\"Confirm problem\",\n",
      "                                                choice_owner=Party.Role(\"Seller\"),\n",
      "                                                bounds=[Bound(1, 1)],\n",
      "                                                then_continue_with=PossiblyMerkleizedContract.raw(\n",
      "                                                    Contract.Close()\n",
      "                                                ),\n",
      "                                            ),\n",
      "                                            Case.Choice(\n",
      "                                                choice_name=\"Dispute problem\",\n",
      "                                                choice_owner=Party.Role(\"Seller\"),\n",
      "                                                bounds=[Bound(0, 0)],\n",
      "                                                then_continue_with=PossiblyMerkleizedContract.raw(\n",
      "                                                    Contract.When(\n",
      "                                                        case=[\n",
      "                                                            Case.Choice(\n",
      "                                                                choice_name=\"Dismiss claim\",\n",
      "                                                                choice_owner=Party.Role(\n",
      "                                                                    \"Mediator\"\n",
      "                                                                ),\n",
      "                                                                bounds=[Bound(0, 0)],\n",
      "                                                                then_continue_with=PossiblyMerkleizedContract.raw(\n",
      "                                                                    Contract.Pay(\n",
      "                                                                        from_account_of=Party.Role(\n",
      "                                                                            \"Buyer\"\n",
      "                                                                        ),\n",
      "                                                                        to=Payee.Party(\n",
      "                                                                            Party.Role(\n",
      "                                                                                \"Seller\"\n",
      "                                                                            )\n",
      "                                                                        ),\n",
      "                                                                        token=Token.ADA(),\n",
      "                                                                        pay=Value.ConstantParam(\n",
      "                                                                            \"Price\"\n",
      "                                                                        ),\n",
      "                                                                        then=Contract.Close(),\n",
      "                                                                    )\n",
      "                                                                ),\n",
      "                                                            ),\n",
      "                                                            Case.Choice(\n",
      "                                                                choice_name=\"Confirm problem\",\n",
      "                                                                choice_owner=Party.Role(\n",
      "                                                                    \"Mediator\"\n",
      "                                                                ),\n",
      "                                                                bounds=[Bound(1, 1)],\n",
      "                                                                then_continue_with=PossiblyMerkleizedContract.raw(\n",
      "                                                                    Contract.Close()\n",
      "                                                                ),\n",
      "                                                            ),\n",
      "                                                        ],\n",
      "                                                        timeout=Timeout.TimeParam(\n",
      "                                                            \"Mediation deadline\"\n",
      "                                                        ),\n",
      "                                                        timeout_continuation=Contract.Close(),\n",
      "                                                    )\n",
      "                                                ),\n",
      "                                            ),\n",
      "                                        ],\n",
      "                                        timeout=Timeout.TimeParam(\n",
      "                                            \"Complaint response deadline\"\n",
      "                                        ),\n",
      "                                        timeout_continuation=Contract.Close(),\n",
      "                                    ),\n",
      "                                )\n",
      "                            ),\n",
      "                        ),\n",
      "                    ],\n",
      "                    timeout=Timeout.TimeParam(\"Complaint deadline\"),\n",
      "                    timeout_continuation=Contract.Close(),\n",
      "                )\n",
      "            ),\n",
      "        )\n",
      "    ],\n",
      "    timeout=Timeout.TimeParam(\"Payment deadline\"),\n",
      "    timeout_continuation=Contract.Close(),\n",
      ")\n",
      "\n"
     ]
    }
   ],
   "source": [
    "import black\n",
    "marlowe_dsl = \"\"\"When\n",
    "    [Case\n",
    "        (Deposit\n",
    "            (Role \"Seller\")\n",
    "            (Role \"Buyer\")\n",
    "            (Token \"\" \"\")\n",
    "            (ConstantParam \"Price\")\n",
    "        )\n",
    "        (When\n",
    "            [Case\n",
    "                (Choice\n",
    "                    (ChoiceId\n",
    "                        \"Everything is alright\"\n",
    "                        (Role \"Buyer\")\n",
    "                    )\n",
    "                    [Bound 0 0]\n",
    "                )\n",
    "                Close , Case\n",
    "                (Choice\n",
    "                    (ChoiceId\n",
    "                        \"Report problem\"\n",
    "                        (Role \"Buyer\")\n",
    "                    )\n",
    "                    [Bound 1 1]\n",
    "                )\n",
    "                (Pay\n",
    "                    (Role \"Seller\")\n",
    "                    (Account (Role \"Buyer\"))\n",
    "                    (Token \"\" \"\")\n",
    "                    (ConstantParam \"Price\")\n",
    "                    (When\n",
    "                        [Case\n",
    "                            (Choice\n",
    "                                (ChoiceId\n",
    "                                    \"Confirm problem\"\n",
    "                                    (Role \"Seller\")\n",
    "                                )\n",
    "                                [Bound 1 1]\n",
    "                            )\n",
    "                            Close , Case\n",
    "                            (Choice\n",
    "                                (ChoiceId\n",
    "                                    \"Dispute problem\"\n",
    "                                    (Role \"Seller\")\n",
    "                                )\n",
    "                                [Bound 0 0]\n",
    "                            )\n",
    "                            (When\n",
    "                                [Case\n",
    "                                    (Choice\n",
    "                                        (ChoiceId\n",
    "                                            \"Dismiss claim\"\n",
    "                                            (Role \"Mediator\")\n",
    "                                        )\n",
    "                                        [Bound 0 0]\n",
    "                                    )\n",
    "                                    (Pay\n",
    "                                        (Role \"Buyer\")\n",
    "                                        (Party (Role \"Seller\"))\n",
    "                                        (Token \"\" \"\")\n",
    "                                        (ConstantParam \"Price\")\n",
    "                                        Close \n",
    "                                    ), Case\n",
    "                                    (Choice\n",
    "                                        (ChoiceId\n",
    "                                            \"Confirm problem\"\n",
    "                                            (Role \"Mediator\")\n",
    "                                        )\n",
    "                                        [Bound 1 1]\n",
    "                                    )\n",
    "                                    Close ]\n",
    "                                (TimeParam \"Mediation deadline\")\n",
    "                                Close \n",
    "                            )]\n",
    "                        (TimeParam \"Complaint response deadline\")\n",
    "                        Close \n",
    "                    )\n",
    "                )]\n",
    "            (TimeParam \"Complaint deadline\")\n",
    "            Close \n",
    "        )]\n",
    "    (TimeParam \"Payment deadline\")\n",
    "    Close\"\"\"\n",
    "\n",
    "pythonized = Contract.from_marlowe_dsl(marlowe_dsl,[]).as_python()\n",
    "formatted_code = black.format_str(pythonized, mode=black.FileMode())\n",
    "print(formatted_code)"
   ]
  }
 ],
 "metadata": {
  "kernelspec": {
   "display_name": "Python 3",
   "language": "python",
   "name": "python3"
  },
  "language_info": {
   "codemirror_mode": {
    "name": "ipython",
    "version": 3
   },
   "file_extension": ".py",
   "mimetype": "text/x-python",
   "name": "python",
   "nbconvert_exporter": "python",
   "pygments_lexer": "ipython3",
   "version": "3.9.2"
  },
  "orig_nbformat": 4
 },
 "nbformat": 4,
 "nbformat_minor": 2
}
