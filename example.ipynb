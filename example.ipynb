{
 "cells": [
  {
   "cell_type": "markdown",
   "metadata": {},
   "source": [
    "# MARLOWE-PY\n",
    "\n",
    "Marlowe-RS (marlowe_lang) packaged as a python module!\n",
    "\n"
   ]
  },
  {
   "cell_type": "markdown",
   "metadata": {},
   "source": [
    "## INITIALIZE"
   ]
  },
  {
   "cell_type": "code",
   "execution_count": null,
   "metadata": {},
   "outputs": [],
   "source": [
    "import marlowepy as mm\n",
    "import json\n",
    "\n",
    "Case = mm.WrappedCase\n",
    "Contract = mm.WrappedContract\n",
    "Datum = mm.WrappedDatum"
   ]
  },
  {
   "cell_type": "markdown",
   "metadata": {},
   "source": [
    "# Working with JSON"
   ]
  },
  {
   "cell_type": "code",
   "execution_count": null,
   "metadata": {},
   "outputs": [],
   "source": [
    "j = '{\"when\": [],\"timeout_continuation\": \"close\",\"timeout\": 121231233}'\n",
    "\n",
    "try:\n",
    "    parsed_from_json = Contract.from_json(j)\n",
    "    converted_to_dsl = parsed_from_json.as_marlowe_dsl()\n",
    "    print(\"OK:\",converted_to_dsl)\n",
    "except ValueError as e:\n",
    "    print(\"ERR:\",e)\n",
    "\n",
    "    "
   ]
  },
  {
   "cell_type": "markdown",
   "metadata": {},
   "source": [
    "# Working with Marlowe DSL"
   ]
  },
  {
   "cell_type": "code",
   "execution_count": null,
   "metadata": {},
   "outputs": [],
   "source": [
    "m = 'When [] (TimeParam \"a\") Close'\n",
    "\n",
    "try:\n",
    "    contract = Contract.from_marlowe_dsl(m,[(\"a\",123213)])\n",
    "    print(contract.as_json())\n",
    "except ValueError as e:\n",
    "    print(\"ERR:\",e)\n"
   ]
  },
  {
   "cell_type": "markdown",
   "metadata": {},
   "source": [
    "# Working with CBOR"
   ]
  },
  {
   "cell_type": "code",
   "execution_count": null,
   "metadata": {},
   "outputs": [],
   "source": [
    "cbor_hex = 'd8799fd8799f581c8bb3b343d8e404472337966a722150048c768d0a92a9813596c5338dffd8799fa1d8799fd8799fd87980d8799fd8799f581ce0dc70fa9698727e439df458436797d057cdfea5e7c2844d12b6af8affd87a80ffffd8799f4040ffff1a002dc6c0a0a000ffd87a9fd8799fd87980d8799fd8799f581ce0dc70fa9698727e439df458436797d057cdfea5e7c2844d12b6af8affd87a80ffffd87a9fd87a9f4f5769746864726177616c5465737431ffffd8799f4040ffd87a9f1a00989680ffd87980ffff'\n",
    "\n",
    "try:\n",
    "    d = Datum.from_cbor_hex(cbor_hex)\n",
    "    print(d.as_json())\n",
    "except ValueError as e:\n",
    "    print(\"ERR:\",e)\n"
   ]
  },
  {
   "cell_type": "markdown",
   "metadata": {},
   "source": [
    "# TODO\n",
    "\n",
    "Not yet decided how the API's for creating Marlowe contracts in Python should look like.."
   ]
  },
  {
   "cell_type": "code",
   "execution_count": null,
   "metadata": {},
   "outputs": [],
   "source": [
    "# Something like this?\n",
    "\n",
    "contract = Contract.when(\n",
    "    case=[\n",
    "        Case.notify_on_true()\n",
    "    ],\n",
    "    contract=Contract.close(),\n",
    "    timeout=123\n",
    ")\n",
    "\n",
    "print(\"rust format: \",contract.as_string())\n",
    "print(\"json: \",contract.as_json())\n",
    "print(\"dsl: \",contract.as_marlowe_dsl())"
   ]
  },
  {
   "cell_type": "code",
   "execution_count": 2,
   "metadata": {},
   "outputs": [
    {
     "ename": "ModuleNotFoundError",
     "evalue": "No module named 'marlowe'",
     "output_type": "error",
     "traceback": [
      "\u001b[1;31m---------------------------------------------------------------------------\u001b[0m",
      "\u001b[1;31mModuleNotFoundError\u001b[0m                       Traceback (most recent call last)",
      "Cell \u001b[1;32mIn[2], line 1\u001b[0m\n\u001b[1;32m----> 1\u001b[0m \u001b[39mimport\u001b[39;00m \u001b[39mmarlowe\u001b[39;00m\n",
      "\u001b[1;31mModuleNotFoundError\u001b[0m: No module named 'marlowe'"
     ]
    }
   ],
   "source": [
    "import marlowepy\n",
    "\n",
    "\n",
    "\n",
    "\n"
   ]
  }
 ],
 "metadata": {
  "kernelspec": {
   "display_name": "Python 3",
   "language": "python",
   "name": "python3"
  },
  "language_info": {
   "codemirror_mode": {
    "name": "ipython",
    "version": 3
   },
   "file_extension": ".py",
   "mimetype": "text/x-python",
   "name": "python",
   "nbconvert_exporter": "python",
   "pygments_lexer": "ipython3",
   "version": "3.11.4"
  },
  "orig_nbformat": 4
 },
 "nbformat": 4,
 "nbformat_minor": 2
}
